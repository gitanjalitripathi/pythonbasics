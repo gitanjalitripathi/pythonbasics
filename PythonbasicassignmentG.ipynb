{
  "nbformat": 4,
  "nbformat_minor": 0,
  "metadata": {
    "colab": {
      "provenance": []
    },
    "kernelspec": {
      "name": "python3",
      "display_name": "Python 3"
    },
    "language_info": {
      "name": "python"
    }
  },
  "cells": [
    {
      "cell_type": "code",
      "execution_count": null,
      "metadata": {
        "id": "dvl5L5hAbdRW"
      },
      "outputs": [],
      "source": []
    },
    {
      "cell_type": "markdown",
      "source": [],
      "metadata": {
        "id": "T51Ncs20dIse"
      }
    },
    {
      "cell_type": "markdown",
      "source": [
        "Question 1. Explain the key features of Python that make it a popular choice for\n",
        "programming\n",
        "Answer: -> Python is known for its readability and simplicity.\n",
        "-> Python is widely use in almost every factor because it is simple and very easy in reading and\n",
        "understanding\n",
        "\n",
        "-> A beginner and pro both can easily learn and understand all the codes at the same time\n",
        "\n",
        "-> Python is freely available and open source, meaning anyone can use, modify and distribute it\n",
        "-> Python has massive libraries like 137000, it offers many common tasks so you don’t need to\n",
        "program from scratch.\n",
        "\n",
        "-> Interpreter lets you run code line by line that execution helps to quickly identified and for\n",
        "debug errors that optimize your code effectively\n",
        "\n",
        "-> Python can be used for web development, data science artificial intelligence, machine\n",
        "learning, automation and more\n",
        "\n",
        "-> Python is available on most platforms including windows macOS and Linux which means you can write and run python code anywhere\n",
        "\n",
        "-> Python has a massive community of developers which means there are plenty of tutorials and\n",
        "libraries available to help you to solve problem."
      ],
      "metadata": {
        "id": "2aLSeNQhe7c-"
      }
    },
    {
      "cell_type": "markdown",
      "source": [
        "Question 2. Describe the role of predefined keywords in Python and provide examples of how they are used in a program\n",
        "\n",
        "-> Predefined keywords are also known as reserved words\n",
        "-> That predefined keywords are built in words that have special meanings and are part of the language’s syntax.\n",
        "\n",
        "-> This keyword cannot use as a variable name, function names or identifiers because they\n",
        "provide basic pre-defined or you can say built in functions in python code structure"
      ],
      "metadata": {
        "id": "Yd63aGBIfm-w"
      }
    },
    {
      "cell_type": "code",
      "source": [
        "\"Examples of python keywords and their usage\""
      ],
      "metadata": {
        "colab": {
          "base_uri": "https://localhost:8080/",
          "height": 35
        },
        "id": "01rDL0uyfycm",
        "outputId": "37d9693b-607c-4693-9139-2db65b19812d"
      },
      "execution_count": null,
      "outputs": [
        {
          "output_type": "execute_result",
          "data": {
            "text/plain": [
              "'Examples of python keywords and their usage'"
            ],
            "application/vnd.google.colaboratory.intrinsic+json": {
              "type": "string"
            }
          },
          "metadata": {},
          "execution_count": 1
        }
      ]
    },
    {
      "cell_type": "code",
      "source": [
        "\"-> Control flow Keywords <-\""
      ],
      "metadata": {
        "colab": {
          "base_uri": "https://localhost:8080/",
          "height": 35
        },
        "id": "o0H7zWQXgFnq",
        "outputId": "b547490c-270b-4efa-f4ec-d51dd3792cdc"
      },
      "execution_count": null,
      "outputs": [
        {
          "output_type": "execute_result",
          "data": {
            "text/plain": [
              "'-> Control flow Keywords <-'"
            ],
            "application/vnd.google.colaboratory.intrinsic+json": {
              "type": "string"
            }
          },
          "metadata": {},
          "execution_count": 2
        }
      ]
    },
    {
      "cell_type": "code",
      "source": [
        "# If, elif, else: used for condition statements"
      ],
      "metadata": {
        "id": "MWZPKytogLnT"
      },
      "execution_count": null,
      "outputs": []
    },
    {
      "source": [
        "x = 12\n",
        "if x > 6 :\n",
        "  print(\"x is greater than 6\")\n",
        "else:\n",
        "  print (\"x is 6 or less\")"
      ],
      "cell_type": "code",
      "metadata": {
        "colab": {
          "base_uri": "https://localhost:8080/"
        },
        "id": "zA1RXB2bgrRi",
        "outputId": "202e55d0-4ae5-4a14-cea3-187a222f8b74"
      },
      "execution_count": null,
      "outputs": [
        {
          "output_type": "stream",
          "name": "stdout",
          "text": [
            "x is greater than 6\n"
          ]
        }
      ]
    },
    {
      "cell_type": "code",
      "source": [
        "# while: used for loops"
      ],
      "metadata": {
        "id": "KUr9HGv1g28L"
      },
      "execution_count": null,
      "outputs": []
    },
    {
      "source": [
        "i = 1\n",
        "n = 5\n",
        "while i <= 9 :\n",
        "  print(i)\n",
        "  i+=1"
      ],
      "cell_type": "code",
      "metadata": {
        "colab": {
          "base_uri": "https://localhost:8080/"
        },
        "id": "-32KfuDVhCOE",
        "outputId": "6219b658-6772-4cf7-c242-78aa865fef30"
      },
      "execution_count": null,
      "outputs": [
        {
          "output_type": "stream",
          "name": "stdout",
          "text": [
            "1\n",
            "2\n",
            "3\n",
            "4\n",
            "5\n",
            "6\n",
            "7\n",
            "8\n",
            "9\n"
          ]
        }
      ]
    },
    {
      "cell_type": "code",
      "source": [
        "# For : used for loops"
      ],
      "metadata": {
        "id": "9D7rKfBBhSMC"
      },
      "execution_count": null,
      "outputs": []
    },
    {
      "source": [
        "for i in range(1,10) :\n",
        "    print (i) # Indented with 4 spaces"
      ],
      "cell_type": "code",
      "metadata": {
        "colab": {
          "base_uri": "https://localhost:8080/"
        },
        "id": "f32QL7qfhlpm",
        "outputId": "b9a0bb24-1dc4-436a-e40b-ba8d64684e34"
      },
      "execution_count": null,
      "outputs": [
        {
          "output_type": "stream",
          "name": "stdout",
          "text": [
            "1\n",
            "2\n",
            "3\n",
            "4\n",
            "5\n",
            "6\n",
            "7\n",
            "8\n",
            "9\n"
          ]
        }
      ]
    },
    {
      "cell_type": "code",
      "source": [
        "# Break used to control loop execution"
      ],
      "metadata": {
        "id": "1hLaRLPhhxVv"
      },
      "execution_count": null,
      "outputs": []
    },
    {
      "source": [
        "i = 1\n",
        "n = 5\n",
        "while i <= 9 :\n",
        "    print(i) # Indented with 4 spaces\n",
        "    i+=1 # Indented with 4 spaces\n",
        "    if i == 4 :\n",
        "        break # Indented with 4 spaces"
      ],
      "cell_type": "code",
      "metadata": {
        "colab": {
          "base_uri": "https://localhost:8080/"
        },
        "id": "8_PTmkUSiCjv",
        "outputId": "e986e214-f50e-40cc-db99-c632139bfc97"
      },
      "execution_count": null,
      "outputs": [
        {
          "output_type": "stream",
          "name": "stdout",
          "text": [
            "1\n",
            "2\n",
            "3\n"
          ]
        }
      ]
    },
    {
      "cell_type": "code",
      "source": [
        "# continue used to control loop execution"
      ],
      "metadata": {
        "id": "M1O6D9nDiINa"
      },
      "execution_count": null,
      "outputs": []
    },
    {
      "source": [
        "for i in range(1,10):\n",
        "    if i == 4 :\n",
        "        continue\n",
        "    print(i)"
      ],
      "cell_type": "code",
      "metadata": {
        "colab": {
          "base_uri": "https://localhost:8080/"
        },
        "id": "Reqmnc3pir5C",
        "outputId": "9f3522b7-b703-42bf-b1eb-3451a578f619"
      },
      "execution_count": null,
      "outputs": [
        {
          "output_type": "stream",
          "name": "stdout",
          "text": [
            "1\n",
            "2\n",
            "3\n",
            "5\n",
            "6\n",
            "7\n",
            "8\n",
            "9\n"
          ]
        }
      ]
    },
    {
      "cell_type": "code",
      "source": [
        "'''-> Variable declaration and value assignment keywords '''"
      ],
      "metadata": {
        "colab": {
          "base_uri": "https://localhost:8080/",
          "height": 35
        },
        "id": "bRPOHFsRiz2K",
        "outputId": "8bdb121e-6928-48b7-e12c-0a085092f2fa"
      },
      "execution_count": null,
      "outputs": [
        {
          "output_type": "execute_result",
          "data": {
            "text/plain": [
              "'-> Variable declaration and value assignment keywords '"
            ],
            "application/vnd.google.colaboratory.intrinsic+json": {
              "type": "string"
            }
          },
          "metadata": {},
          "execution_count": 25
        }
      ]
    },
    {
      "cell_type": "code",
      "source": [
        "'''\n",
        "Python does not require explicit declaration. You just assign a value to a\n",
        "variable name:\n",
        "\n",
        "X = 10 (integer)\n",
        "Name = “Gitanjali” (string)\n",
        "Price = 99.99 (float)\n",
        "Is active = True (Boolean)\n",
        "'''"
      ],
      "metadata": {
        "colab": {
          "base_uri": "https://localhost:8080/",
          "height": 70
        },
        "id": "hIVRCtDAjMtM",
        "outputId": "7dc39192-5ed0-4fee-907a-c7a0ac995e31"
      },
      "execution_count": null,
      "outputs": [
        {
          "output_type": "execute_result",
          "data": {
            "text/plain": [
              "'\\nPython does not require explicit declaration. You just assign a value to a\\nvariable name:\\n\\nX = 10 (integer)\\nName = “Gitanjali” (string)\\nPrice = 99.99 (float)\\nIs active = True (Boolean)\\n'"
            ],
            "application/vnd.google.colaboratory.intrinsic+json": {
              "type": "string"
            }
          },
          "metadata": {},
          "execution_count": 27
        }
      ]
    },
    {
      "cell_type": "code",
      "source": [
        "''' -> Function definition and return keywords '''"
      ],
      "metadata": {
        "colab": {
          "base_uri": "https://localhost:8080/",
          "height": 35
        },
        "id": "vzhpKbX6jpqU",
        "outputId": "9ea08bca-78b6-4162-a794-9ea34196a09f"
      },
      "execution_count": null,
      "outputs": [
        {
          "output_type": "execute_result",
          "data": {
            "text/plain": [
              "' -> Function definition and return keywords '"
            ],
            "application/vnd.google.colaboratory.intrinsic+json": {
              "type": "string"
            }
          },
          "metadata": {},
          "execution_count": 28
        }
      ]
    },
    {
      "cell_type": "code",
      "source": [
        "# In python you define a function using the def keyword, and return a value using the return keyword"
      ],
      "metadata": {
        "id": "Ba8BYLCyjvmY"
      },
      "execution_count": null,
      "outputs": []
    },
    {
      "cell_type": "code",
      "source": [
        "# Def Keyword"
      ],
      "metadata": {
        "id": "sAKDF5Yxj36u"
      },
      "execution_count": null,
      "outputs": []
    },
    {
      "cell_type": "code",
      "source": [
        "print(\"Hello my name is Gitanjali\")"
      ],
      "metadata": {
        "colab": {
          "base_uri": "https://localhost:8080/"
        },
        "id": "JGGApWyDj3oj",
        "outputId": "727f78a8-e476-469a-ae36-68364c34c412"
      },
      "execution_count": null,
      "outputs": [
        {
          "output_type": "stream",
          "name": "stdout",
          "text": [
            "Hello my name is Gitanjali\n"
          ]
        }
      ]
    },
    {
      "cell_type": "code",
      "source": [
        "# Return Keyword"
      ],
      "metadata": {
        "id": "tJFmLhn7k2kz"
      },
      "execution_count": null,
      "outputs": []
    },
    {
      "source": [
        "def add(a, b):\n",
        "    return a + b  # Indent this line with 4 spaces to include it within the function definition\n",
        "\n",
        "add(7, 5)"
      ],
      "cell_type": "code",
      "metadata": {
        "colab": {
          "base_uri": "https://localhost:8080/"
        },
        "id": "dUuJnueXlDuL",
        "outputId": "28618199-c218-4bbf-ba10-bae3af033f35"
      },
      "execution_count": null,
      "outputs": [
        {
          "output_type": "execute_result",
          "data": {
            "text/plain": [
              "12"
            ]
          },
          "metadata": {},
          "execution_count": 42
        }
      ]
    },
    {
      "cell_type": "markdown",
      "source": [
        "Question 3. Compare and contrast mutable and immutable objects in Python with examples"
      ],
      "metadata": {
        "id": "xiuRkn6zlIzf"
      }
    },
    {
      "cell_type": "code",
      "source": [
        "'''\n",
        "-> Definition:\n",
        "-- Mutable objects can be changed after creation\n",
        "-- Immutable objects cannot be changed after creation\n",
        "'''"
      ],
      "metadata": {
        "colab": {
          "base_uri": "https://localhost:8080/",
          "height": 52
        },
        "id": "Mgo6J1CXlN_f",
        "outputId": "90b1317a-9521-4340-c0fa-62eb033747b0"
      },
      "execution_count": null,
      "outputs": [
        {
          "output_type": "execute_result",
          "data": {
            "text/plain": [
              "'\\n-> Definition:\\n-- Mutable objects can be changed after creation\\n-- Immutable objects cannot be changed after creation\\n'"
            ],
            "application/vnd.google.colaboratory.intrinsic+json": {
              "type": "string"
            }
          },
          "metadata": {},
          "execution_count": 43
        }
      ]
    },
    {
      "cell_type": "code",
      "source": [
        "# Examples\n",
        "# Mutable Objects : List, dict, set\n",
        "# Immutable Objects : Int, float, str, tuple, bool"
      ],
      "metadata": {
        "id": "ZmRwh7gjlXfH"
      },
      "execution_count": null,
      "outputs": []
    },
    {
      "cell_type": "code",
      "source": [
        "''' -> Mutable (List) <- '''"
      ],
      "metadata": {
        "colab": {
          "base_uri": "https://localhost:8080/",
          "height": 35
        },
        "id": "UJUixzEgld7h",
        "outputId": "2c83d5c4-3dd4-4a4d-9f06-939aada476f3"
      },
      "execution_count": null,
      "outputs": [
        {
          "output_type": "execute_result",
          "data": {
            "text/plain": [
              "' -> Mutable (List) <- '"
            ],
            "application/vnd.google.colaboratory.intrinsic+json": {
              "type": "string"
            }
          },
          "metadata": {},
          "execution_count": 45
        }
      ]
    },
    {
      "cell_type": "code",
      "source": [
        "a = [1, 2, 3, 4,]\n",
        "a[0] = 65\n",
        "print(a)"
      ],
      "metadata": {
        "colab": {
          "base_uri": "https://localhost:8080/"
        },
        "id": "RgaXW_1XlmcL",
        "outputId": "b135fb87-a505-4d49-e568-cc40bff40a50"
      },
      "execution_count": null,
      "outputs": [
        {
          "output_type": "stream",
          "name": "stdout",
          "text": [
            "[65, 2, 3, 4]\n"
          ]
        }
      ]
    },
    {
      "cell_type": "code",
      "source": [
        "''' -> Immutable (string) <- '''"
      ],
      "metadata": {
        "colab": {
          "base_uri": "https://localhost:8080/",
          "height": 35
        },
        "id": "vWRgnkBQlxj2",
        "outputId": "e6476d97-b67f-4616-d0a3-18cb3200dafe"
      },
      "execution_count": null,
      "outputs": [
        {
          "output_type": "execute_result",
          "data": {
            "text/plain": [
              "' -> Immutable (string) <- '"
            ],
            "application/vnd.google.colaboratory.intrinsic+json": {
              "type": "string"
            }
          },
          "metadata": {},
          "execution_count": 48
        }
      ]
    },
    {
      "cell_type": "code",
      "source": [
        "a = \"Gitanjali\"\n",
        "# a[0] = \"B\" this will throw an error\n",
        "a = \"Gitanjali\"\n",
        "print(a)"
      ],
      "metadata": {
        "colab": {
          "base_uri": "https://localhost:8080/"
        },
        "id": "JaEEbNael6VY",
        "outputId": "9e03cb8a-4775-437f-bd5f-146829e3e143"
      },
      "execution_count": null,
      "outputs": [
        {
          "output_type": "stream",
          "name": "stdout",
          "text": [
            "Gitanjali\n"
          ]
        }
      ]
    },
    {
      "cell_type": "markdown",
      "source": [
        "Question 4. Discuss the different types of operators in Python and provide examples of\n",
        "how they are used"
      ],
      "metadata": {
        "id": "IzV6wN0OmCtv"
      }
    },
    {
      "cell_type": "code",
      "source": [
        "''' Arithmetic operator '''"
      ],
      "metadata": {
        "colab": {
          "base_uri": "https://localhost:8080/",
          "height": 35
        },
        "id": "HpgJqxbwdxzX",
        "outputId": "8e46062d-ef41-47cb-ac88-98fee117b7f8"
      },
      "execution_count": 1,
      "outputs": [
        {
          "output_type": "execute_result",
          "data": {
            "text/plain": [
              "' Arithmetic operator '"
            ],
            "application/vnd.google.colaboratory.intrinsic+json": {
              "type": "string"
            }
          },
          "metadata": {},
          "execution_count": 1
        }
      ]
    },
    {
      "cell_type": "code",
      "source": [
        "# Used for basic mathematical operations\n",
        "\n",
        "'''\n",
        "\n",
        "\n",
        "Operator  Description       Example  Result\n",
        "  +          Addition       2 + 3       5\n",
        "  -          Subtraction       5 – 2        3\n",
        "  *          Multiplication   4 * 2       8\n",
        "  /          Division       10 / 2       5.0\n",
        "  //      Floor division   7 // 2       3\n",
        "  %          Modulus           7 % 3       1\n",
        "        Exponentiation   2  3       8\n",
        "\n",
        "\n",
        "'''"
      ],
      "metadata": {
        "colab": {
          "base_uri": "https://localhost:8080/",
          "height": 70
        },
        "id": "xKCQtS8sfAlz",
        "outputId": "4e35cc85-520a-48f3-f66e-e25884dfb6b9"
      },
      "execution_count": 2,
      "outputs": [
        {
          "output_type": "execute_result",
          "data": {
            "text/plain": [
              "'\\n\\n\\nOperator  Description       Example  Result\\n  +          Addition       2 + 3       5\\n  -          Subtraction       5 – 2        3\\n  *          Multiplication   4 * 2       8\\n  /          Division       10 / 2       5.0\\n  //      Floor division   7 // 2       3\\n  %          Modulus           7 % 3       1\\n        Exponentiation   2  3       8\\n\\n\\n'"
            ],
            "application/vnd.google.colaboratory.intrinsic+json": {
              "type": "string"
            }
          },
          "metadata": {},
          "execution_count": 2
        }
      ]
    },
    {
      "cell_type": "code",
      "source": [
        "''' Comparison operator  '''"
      ],
      "metadata": {
        "colab": {
          "base_uri": "https://localhost:8080/",
          "height": 35
        },
        "id": "64S6K-LOfQty",
        "outputId": "13aec092-4335-4d50-ef09-d0395179e0ed"
      },
      "execution_count": 3,
      "outputs": [
        {
          "output_type": "execute_result",
          "data": {
            "text/plain": [
              "' Comparison operator  '"
            ],
            "application/vnd.google.colaboratory.intrinsic+json": {
              "type": "string"
            }
          },
          "metadata": {},
          "execution_count": 3
        }
      ]
    },
    {
      "cell_type": "code",
      "source": [
        "# Used to compare values\n",
        "\n",
        "'''\n",
        "\n",
        "Operator  Description       Example  Result\n",
        "==          Equal to        3 == 3       True\n",
        "!=          Not equal to     4 != 5       True\n",
        ">          Greater Than     5 > 2       True\n",
        "<          Less than       3 < 4       True\n",
        ">=         Greater or equal 5 >= 5       True\n",
        "<=          Less or equal   2 <= 3       True\n",
        "\n",
        "\n",
        "'''"
      ],
      "metadata": {
        "colab": {
          "base_uri": "https://localhost:8080/",
          "height": 70
        },
        "id": "xuvz-cPlfz9y",
        "outputId": "dcfb2613-8f53-41fb-ca97-e325ff9f6f72"
      },
      "execution_count": 4,
      "outputs": [
        {
          "output_type": "execute_result",
          "data": {
            "text/plain": [
              "'\\n\\nOperator  Description       Example  Result\\n==          Equal to        3 == 3       True\\n!=          Not equal to     4 != 5       True\\n>          Greater Than     5 > 2       True\\n<          Less than       3 < 4       True\\n>=         Greater or equal 5 >= 5       True\\n<=          Less or equal   2 <= 3       True\\n\\n\\n'"
            ],
            "application/vnd.google.colaboratory.intrinsic+json": {
              "type": "string"
            }
          },
          "metadata": {},
          "execution_count": 4
        }
      ]
    },
    {
      "cell_type": "code",
      "source": [
        "''' Logical operator  '''"
      ],
      "metadata": {
        "colab": {
          "base_uri": "https://localhost:8080/",
          "height": 35
        },
        "id": "uSnkprkPgA1P",
        "outputId": "10a86e08-816b-4267-dafc-eb04a517a27c"
      },
      "execution_count": 5,
      "outputs": [
        {
          "output_type": "execute_result",
          "data": {
            "text/plain": [
              "' Logical operator  '"
            ],
            "application/vnd.google.colaboratory.intrinsic+json": {
              "type": "string"
            }
          },
          "metadata": {},
          "execution_count": 5
        }
      ]
    },
    {
      "cell_type": "code",
      "source": [
        "# Used to combine conditional statement\n",
        "\n",
        "'''\n",
        "\n",
        "          and                       or                   not\n",
        "  Description   Result    Description  Result   Description  Result\n",
        "True And True   True  True And True   True  True And True  False\n",
        "True and false   False  True and false   True  True and false  False\n",
        "False and True   False  False and True   True  False and True  False\n",
        "False and False   False  False and False   False  False and False  True\n",
        "\n",
        "\n",
        "'''"
      ],
      "metadata": {
        "colab": {
          "base_uri": "https://localhost:8080/",
          "height": 70
        },
        "id": "7U2MAuoLgIHb",
        "outputId": "c0c4f6c7-094a-4d68-8702-a39c59b1566c"
      },
      "execution_count": 6,
      "outputs": [
        {
          "output_type": "execute_result",
          "data": {
            "text/plain": [
              "'\\n\\n          and                       or                   not\\n  Description   Result    Description  Result   Description  Result\\nTrue And True   True  True And True   True  True And True  False\\nTrue and false   False  True and false   True  True and false  False\\nFalse and True   False  False and True   True  False and True  False\\nFalse and False   False  False and False   False  False and False  True\\n\\n\\n'"
            ],
            "application/vnd.google.colaboratory.intrinsic+json": {
              "type": "string"
            }
          },
          "metadata": {},
          "execution_count": 6
        }
      ]
    },
    {
      "cell_type": "code",
      "source": [
        "''' Assignment operators  '''"
      ],
      "metadata": {
        "colab": {
          "base_uri": "https://localhost:8080/",
          "height": 35
        },
        "id": "wiD4d-OugT5N",
        "outputId": "b0719211-7f60-4131-fd48-433e41100a9a"
      },
      "execution_count": 7,
      "outputs": [
        {
          "output_type": "execute_result",
          "data": {
            "text/plain": [
              "' Assignment operators  '"
            ],
            "application/vnd.google.colaboratory.intrinsic+json": {
              "type": "string"
            }
          },
          "metadata": {},
          "execution_count": 7
        }
      ]
    },
    {
      "cell_type": "code",
      "source": [
        "# Used to assign values\n",
        "\n",
        "'''\n",
        "\n",
        "Operator  Description        Example\n",
        "  =           Assign              X = 5\n",
        "  +=  Add and assign          X += 3\n",
        "  -=  Subtract and assign    X -= 2\n",
        "  *=  Multiply and assign      X *= 2\n",
        "  /=  Divide and assign      X /= 2\n",
        "  //=  Floor divide and assign  X //= 2\n",
        "  %=  Modulus and assign     X %= 2\n",
        "  =  Power and assign      X = 3\n",
        "\n",
        "\n",
        "'''"
      ],
      "metadata": {
        "colab": {
          "base_uri": "https://localhost:8080/",
          "height": 70
        },
        "id": "yiltQZ0VgZ4T",
        "outputId": "81166973-777f-48d8-b22e-2487c71d5992"
      },
      "execution_count": 8,
      "outputs": [
        {
          "output_type": "execute_result",
          "data": {
            "text/plain": [
              "'\\n\\nOperator  Description        Example\\n  =           Assign              X = 5\\n  +=  Add and assign          X += 3\\n  -=  Subtract and assign    X -= 2\\n  *=  Multiply and assign      X *= 2\\n  /=  Divide and assign      X /= 2\\n  //=  Floor divide and assign  X //= 2\\n  %=  Modulus and assign     X %= 2\\n  =  Power and assign      X = 3\\n\\n\\n'"
            ],
            "application/vnd.google.colaboratory.intrinsic+json": {
              "type": "string"
            }
          },
          "metadata": {},
          "execution_count": 8
        }
      ]
    },
    {
      "cell_type": "code",
      "source": [
        "''' Identify operators  '''"
      ],
      "metadata": {
        "colab": {
          "base_uri": "https://localhost:8080/",
          "height": 35
        },
        "id": "QtMAIeYEgj98",
        "outputId": "93dd3ef0-a39a-45b6-987b-d62cdc1d89b0"
      },
      "execution_count": 9,
      "outputs": [
        {
          "output_type": "execute_result",
          "data": {
            "text/plain": [
              "' Identify operators  '"
            ],
            "application/vnd.google.colaboratory.intrinsic+json": {
              "type": "string"
            }
          },
          "metadata": {},
          "execution_count": 9
        }
      ]
    },
    {
      "cell_type": "code",
      "source": [
        "# Check if Two variables reference the same object\n",
        "\n",
        "'''\n",
        "\n",
        "Operator  Example             Result\n",
        "  Is     X is y        True if same object\n",
        "Is not     X is not y    Trues if not same object\n",
        "\n",
        "\n",
        "'''"
      ],
      "metadata": {
        "colab": {
          "base_uri": "https://localhost:8080/",
          "height": 35
        },
        "id": "p3LSypzugvZc",
        "outputId": "d3ef862a-828c-458f-b705-3f42dde35d75"
      },
      "execution_count": 10,
      "outputs": [
        {
          "output_type": "execute_result",
          "data": {
            "text/plain": [
              "'\\n\\nOperator  Example             Result\\n  Is     X is y        True if same object\\nIs not     X is not y    Trues if not same object\\n\\n\\n'"
            ],
            "application/vnd.google.colaboratory.intrinsic+json": {
              "type": "string"
            }
          },
          "metadata": {},
          "execution_count": 10
        }
      ]
    },
    {
      "cell_type": "code",
      "source": [
        "''' Membership operators  '''"
      ],
      "metadata": {
        "colab": {
          "base_uri": "https://localhost:8080/",
          "height": 35
        },
        "id": "Z32wAbmDg1lQ",
        "outputId": "3fbc99b2-eb26-468a-9ab3-fb241033e622"
      },
      "execution_count": 11,
      "outputs": [
        {
          "output_type": "execute_result",
          "data": {
            "text/plain": [
              "' Membership operators  '"
            ],
            "application/vnd.google.colaboratory.intrinsic+json": {
              "type": "string"
            }
          },
          "metadata": {},
          "execution_count": 11
        }
      ]
    },
    {
      "cell_type": "code",
      "source": [
        "'''\n",
        "\n",
        "Operator  Example           Result\n",
        "  in      ‘a’ in ‘mobile’       True\n",
        "  not in  ‘z’ not in ‘mobile’  True\n",
        "\n",
        "\n",
        "'''"
      ],
      "metadata": {
        "colab": {
          "base_uri": "https://localhost:8080/",
          "height": 35
        },
        "id": "HQxLOGpyhn6L",
        "outputId": "7a20a897-632a-4ac6-b22d-fdf5354d2cce"
      },
      "execution_count": 12,
      "outputs": [
        {
          "output_type": "execute_result",
          "data": {
            "text/plain": [
              "'\\n\\nOperator  Example           Result\\n  in      ‘a’ in ‘mobile’       True\\n  not in  ‘z’ not in ‘mobile’  True\\n\\n\\n'"
            ],
            "application/vnd.google.colaboratory.intrinsic+json": {
              "type": "string"
            }
          },
          "metadata": {},
          "execution_count": 12
        }
      ]
    },
    {
      "cell_type": "markdown",
      "source": [
        "Question 5. Explain the concept of type casting in Python with examples"
      ],
      "metadata": {
        "id": "UmxXwo41h7d6"
      }
    },
    {
      "cell_type": "code",
      "source": [
        "'''\n",
        "->    Type casting is the process of converting one data type into another.\n",
        "->   In python, its often called type conversion, and it’s done using built in functions.\n",
        "'''"
      ],
      "metadata": {
        "colab": {
          "base_uri": "https://localhost:8080/",
          "height": 53
        },
        "id": "ZaYK3DYCiBzc",
        "outputId": "750dc085-ca17-45a2-b8b5-82e92633f043"
      },
      "execution_count": 13,
      "outputs": [
        {
          "output_type": "execute_result",
          "data": {
            "text/plain": [
              "'\\n->    Type casting is the process of converting one data type into another.\\n->   In python, its often called type conversion, and it’s done using built in functions.\\n'"
            ],
            "application/vnd.google.colaboratory.intrinsic+json": {
              "type": "string"
            }
          },
          "metadata": {},
          "execution_count": 13
        }
      ]
    },
    {
      "cell_type": "code",
      "source": [
        "''' Common Type casting Functions '''"
      ],
      "metadata": {
        "colab": {
          "base_uri": "https://localhost:8080/",
          "height": 35
        },
        "id": "7dYNJnN2ibqo",
        "outputId": "2a412245-7c6c-44fd-b5ad-4c4f9b81f5b8"
      },
      "execution_count": 14,
      "outputs": [
        {
          "output_type": "execute_result",
          "data": {
            "text/plain": [
              "' Common Type casting Functions '"
            ],
            "application/vnd.google.colaboratory.intrinsic+json": {
              "type": "string"
            }
          },
          "metadata": {},
          "execution_count": 14
        }
      ]
    },
    {
      "cell_type": "code",
      "source": [
        "'''\n",
        "\n",
        "Function  Converts to\n",
        "  int()   Integer\n",
        "  float()  Floating point\n",
        "  str()      String\n",
        "  bool()  Boolean\n",
        "  list()  List\n",
        "  tuple()  Tuple\n",
        "\n",
        "\n",
        "'''"
      ],
      "metadata": {
        "colab": {
          "base_uri": "https://localhost:8080/",
          "height": 35
        },
        "id": "iKUNQ92hiiGw",
        "outputId": "5506ba37-e3ad-4368-8495-f54d86412642"
      },
      "execution_count": 15,
      "outputs": [
        {
          "output_type": "execute_result",
          "data": {
            "text/plain": [
              "'\\n\\nFunction  Converts to\\n  int()   Integer\\n  float()  Floating point\\n  str()      String\\n  bool()  Boolean\\n  list()  List\\n  tuple()  Tuple\\n\\n\\n'"
            ],
            "application/vnd.google.colaboratory.intrinsic+json": {
              "type": "string"
            }
          },
          "metadata": {},
          "execution_count": 15
        }
      ]
    },
    {
      "cell_type": "code",
      "source": [
        "''' Examples '''"
      ],
      "metadata": {
        "colab": {
          "base_uri": "https://localhost:8080/",
          "height": 35
        },
        "id": "0iEyy7F_ivur",
        "outputId": "9e569e2c-b281-4a6f-b9b0-7525964c57de"
      },
      "execution_count": 16,
      "outputs": [
        {
          "output_type": "execute_result",
          "data": {
            "text/plain": [
              "' Examples '"
            ],
            "application/vnd.google.colaboratory.intrinsic+json": {
              "type": "string"
            }
          },
          "metadata": {},
          "execution_count": 16
        }
      ]
    },
    {
      "cell_type": "code",
      "source": [
        "# String to Integer\n",
        "\n",
        "x = \"165\"\n",
        "y = int(x)\n",
        "print(y + 15)"
      ],
      "metadata": {
        "colab": {
          "base_uri": "https://localhost:8080/"
        },
        "id": "pPz-gOyti3aZ",
        "outputId": "89889286-5507-4a1f-db0d-86d6f2a03d2f"
      },
      "execution_count": 23,
      "outputs": [
        {
          "output_type": "stream",
          "name": "stdout",
          "text": [
            "180\n"
          ]
        }
      ]
    },
    {
      "cell_type": "code",
      "source": [
        "# Float to Integer\n",
        "\n",
        "f = 3.1\n",
        "i = int(f)\n",
        "print(i)\n",
        "\n",
        "\n",
        "#output : 3 (Decimal part is removed)"
      ],
      "metadata": {
        "colab": {
          "base_uri": "https://localhost:8080/"
        },
        "id": "Jd9Tv03Bi813",
        "outputId": "1886558d-b63a-46ab-ea5b-3d050a5c1dc9"
      },
      "execution_count": 24,
      "outputs": [
        {
          "output_type": "stream",
          "name": "stdout",
          "text": [
            "3\n"
          ]
        }
      ]
    },
    {
      "cell_type": "code",
      "source": [
        "# Integer to string\n",
        "\n",
        "x = 45\n",
        "y = str(x)\n",
        "print(y + \" is a number\")"
      ],
      "metadata": {
        "colab": {
          "base_uri": "https://localhost:8080/"
        },
        "id": "XZBlZAaujGl4",
        "outputId": "8123d337-a679-4017-cc8e-c8ce78f44321"
      },
      "execution_count": 25,
      "outputs": [
        {
          "output_type": "stream",
          "name": "stdout",
          "text": [
            "45 is a number\n"
          ]
        }
      ]
    },
    {
      "cell_type": "code",
      "source": [
        "# Boolean to integer\n",
        "\n",
        "print(int(True))\n",
        "print(int(False))"
      ],
      "metadata": {
        "colab": {
          "base_uri": "https://localhost:8080/"
        },
        "id": "xSny_q3yjNND",
        "outputId": "34a111f7-89ca-4aaf-d3de-b274d5e3b6d0"
      },
      "execution_count": 20,
      "outputs": [
        {
          "output_type": "stream",
          "name": "stdout",
          "text": [
            "1\n",
            "0\n"
          ]
        }
      ]
    },
    {
      "cell_type": "code",
      "source": [
        "# List to Tuple\n",
        "\n",
        "lst = [1, 2, 3, 4, 5]\n",
        "tup = tuple(lst)\n",
        "print(tup)"
      ],
      "metadata": {
        "colab": {
          "base_uri": "https://localhost:8080/"
        },
        "id": "f6TMpkk0jR6t",
        "outputId": "5fcb707d-4f25-4995-f5dd-aa23edf6d9ed"
      },
      "execution_count": 26,
      "outputs": [
        {
          "output_type": "stream",
          "name": "stdout",
          "text": [
            "(1, 2, 3, 4, 5)\n"
          ]
        }
      ]
    },
    {
      "cell_type": "markdown",
      "source": [
        "Question 6. How do conditional statements work in Python? Illustrate with examples"
      ],
      "metadata": {
        "id": "tOZkX50ok_e6"
      }
    },
    {
      "cell_type": "code",
      "source": [
        "'''\n",
        "->  Condition statements let your problem make decisions and execute certain code only if condition is true\n",
        "->  Keywords Used:\n",
        "If, elif, else, nested condition, using logical operator\n",
        "'''"
      ],
      "metadata": {
        "colab": {
          "base_uri": "https://localhost:8080/",
          "height": 53
        },
        "id": "NTME0Lc_lXRY",
        "outputId": "456d4e1b-1566-4e08-923e-558f0734ac6d"
      },
      "execution_count": 27,
      "outputs": [
        {
          "output_type": "execute_result",
          "data": {
            "text/plain": [
              "'\\n->  Condition statements let your problem make decisions and execute certain code only if condition is true\\n->  Keywords Used:\\nIf, elif, else, nested condition, using logical operator\\n'"
            ],
            "application/vnd.google.colaboratory.intrinsic+json": {
              "type": "string"
            }
          },
          "metadata": {},
          "execution_count": 27
        }
      ]
    },
    {
      "cell_type": "code",
      "source": [
        "# If statement\n",
        "\n",
        "x = 5\n",
        "if x > 5:\n",
        "    print(\"x is greater than 5\")"
      ],
      "metadata": {
        "id": "8lUNFy9qlrAN"
      },
      "execution_count": 28,
      "outputs": []
    },
    {
      "cell_type": "code",
      "source": [
        "# Elif statement\n",
        "\n",
        "x = 3\n",
        "if x > 5:\n",
        "     print(\"x is greater than 5\")\n",
        "else:\n",
        "   print(\"x is 5 or less\")"
      ],
      "metadata": {
        "colab": {
          "base_uri": "https://localhost:8080/"
        },
        "id": "C0L4m_olmAla",
        "outputId": "1394a310-2d3d-40b4-eecf-a6f96d561071"
      },
      "execution_count": 29,
      "outputs": [
        {
          "output_type": "stream",
          "name": "stdout",
          "text": [
            "x is 5 or less\n"
          ]
        }
      ]
    },
    {
      "cell_type": "code",
      "source": [
        "# Else statement\n",
        "\n",
        "x = 5\n",
        "if x > 5:\n",
        "     print(\"x is greater than 5\")\n",
        "elif x == 5:\n",
        "      print(\"x is equal to 5\")\n",
        "else:\n",
        "     print(\"x is less than 5\")"
      ],
      "metadata": {
        "colab": {
          "base_uri": "https://localhost:8080/"
        },
        "id": "tZHsDAbRmKWn",
        "outputId": "4d9dbf5f-56ef-4661-f24e-353cc5e60df2"
      },
      "execution_count": 30,
      "outputs": [
        {
          "output_type": "stream",
          "name": "stdout",
          "text": [
            "x is equal to 5\n"
          ]
        }
      ]
    },
    {
      "cell_type": "code",
      "source": [
        "# Nested if Condition\n",
        "\n",
        "x = 10\n",
        "# Nested if Condition\n",
        "\n",
        "x = 10\n",
        "if x > 5:\n",
        "      if x < 15:\n",
        "              print(\"x is between 5 and 15\")"
      ],
      "metadata": {
        "colab": {
          "base_uri": "https://localhost:8080/"
        },
        "id": "TW8DdOAcmTUm",
        "outputId": "19cabfa4-3f8e-4146-ec62-df376d66f05b"
      },
      "execution_count": 32,
      "outputs": [
        {
          "output_type": "stream",
          "name": "stdout",
          "text": [
            "x is between 5 and 15\n"
          ]
        }
      ]
    },
    {
      "cell_type": "code",
      "source": [
        "# Using logical operators\n",
        "\n",
        "x = 7\n",
        "if x > 5 and x < 10:\n",
        "          print(\"x is between 5 and 10\")"
      ],
      "metadata": {
        "colab": {
          "base_uri": "https://localhost:8080/"
        },
        "id": "lc83tWx1mijE",
        "outputId": "b4cbdfd4-ca2d-4d96-bd3f-06a28968097b"
      },
      "execution_count": 33,
      "outputs": [
        {
          "output_type": "stream",
          "name": "stdout",
          "text": [
            "x is between 5 and 10\n"
          ]
        }
      ]
    },
    {
      "cell_type": "markdown",
      "source": [
        "Question 7. Describe the different types of loops in Python and their use cases with examples."
      ],
      "metadata": {
        "id": "rzUJlfVAm2fa"
      }
    },
    {
      "cell_type": "code",
      "source": [
        "'''\n",
        "->  Python provides three main types of loops, each useful for different situations:\n",
        "1.  for loop\n",
        "2.  while loop\n",
        "3.  Nested loops\n",
        "'''"
      ],
      "metadata": {
        "colab": {
          "base_uri": "https://localhost:8080/",
          "height": 35
        },
        "id": "yFgkRVLam_Aa",
        "outputId": "cccdb147-0779-45dd-b62f-a280a1899ba6"
      },
      "execution_count": 34,
      "outputs": [
        {
          "output_type": "execute_result",
          "data": {
            "text/plain": [
              "'\\n->  Python provides three main types of loops, each useful for different situations:\\n1.  for loop\\n2.  while loop\\n3.  Nested loops\\n'"
            ],
            "application/vnd.google.colaboratory.intrinsic+json": {
              "type": "string"
            }
          },
          "metadata": {},
          "execution_count": 34
        }
      ]
    },
    {
      "cell_type": "code",
      "source": [
        "# for loop\n",
        "\n",
        "animals = [\"cat\", \"dog\", \"cow\", \"tiger\", \"lion\"]\n",
        "for animal in animals :\n",
        "    print(animal)"
      ],
      "metadata": {
        "colab": {
          "base_uri": "https://localhost:8080/"
        },
        "id": "5G_aff_wnvW8",
        "outputId": "d594ceba-f337-4685-a1b8-1e30ab805283"
      },
      "execution_count": 36,
      "outputs": [
        {
          "output_type": "stream",
          "name": "stdout",
          "text": [
            "cat\n",
            "dog\n",
            "cow\n",
            "tiger\n",
            "lion\n"
          ]
        }
      ]
    },
    {
      "cell_type": "code",
      "source": [
        "# while loop\n",
        "\n",
        "count = 1\n",
        "while count <= 5:\n",
        "    print(count)\n",
        "    count+=1"
      ],
      "metadata": {
        "colab": {
          "base_uri": "https://localhost:8080/"
        },
        "id": "DvouEhPsoKhO",
        "outputId": "47dd6d22-632e-4e32-c853-53f35ba2b927"
      },
      "execution_count": 37,
      "outputs": [
        {
          "output_type": "stream",
          "name": "stdout",
          "text": [
            "1\n",
            "2\n",
            "3\n",
            "4\n",
            "5\n"
          ]
        }
      ]
    },
    {
      "cell_type": "code",
      "source": [
        "# Nested loops\n",
        "\n",
        "for i in range(1, 5) :\n",
        "    for j in range(1, 5):\n",
        "        print(i, j)"
      ],
      "metadata": {
        "colab": {
          "base_uri": "https://localhost:8080/"
        },
        "id": "gErQxod5oT_E",
        "outputId": "55182454-9df9-4bb4-fe9a-14aab4c08b34"
      },
      "execution_count": 39,
      "outputs": [
        {
          "output_type": "stream",
          "name": "stdout",
          "text": [
            "1 1\n",
            "1 2\n",
            "1 3\n",
            "1 4\n",
            "2 1\n",
            "2 2\n",
            "2 3\n",
            "2 4\n",
            "3 1\n",
            "3 2\n",
            "3 3\n",
            "3 4\n",
            "4 1\n",
            "4 2\n",
            "4 3\n",
            "4 4\n"
          ]
        }
      ]
    }
  ]
}